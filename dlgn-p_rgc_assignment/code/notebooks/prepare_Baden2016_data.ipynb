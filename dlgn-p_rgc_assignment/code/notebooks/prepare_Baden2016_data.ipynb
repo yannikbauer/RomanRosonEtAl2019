{
 "cells": [
  {
   "cell_type": "markdown",
   "metadata": {},
   "source": [
    "# prepare_Baden2016_data\n",
    "This notebook loads the dataset of stimulus responses of the total RGC population (recorded using the Calcium-indicator OGB-1 with a two-photon microscope) from Baden et al. (2016, Nature) and extracts data relevant to the RGC cluster assignment of the new data set of dLGN-projecting RGC responses (Calcium-indicator GCaMP6f)."
   ]
  },
  {
   "cell_type": "markdown",
   "metadata": {},
   "source": [
    "# Instructions\n",
    "Data to download\n",
    "- data from Baden2016\n",
    "  - from https://datadryad.org/resource/doi:10.5061/dryad.d9v38, download \"BadenEtAl_RGCs_2016_v1.mat\" and put into \"../../data/2P/original/\"\n",
    "    - this also contains a readme with extended data info\n",
    "- (De-)convolution kernels\n",
    "  - put \"ogb1_kern.mat\" and \"gcamp6f_kern.mat\" into \"../../data/2P/original/\""
   ]
  },
  {
   "cell_type": "markdown",
   "metadata": {},
   "source": [
    "# Short Baden2016 data info\n",
    "- chirp_avg: median of all repeats, scaled to max(abs(x))=1\n",
    "- use group_idx for grouping avg respose (remaining clusters after SNR-criterion; <> cluster_idx contains all clusters)\n",
    " - group_idx: RGCs: 1-28, uncertain RGCs: 29-32, other: 33-46\n",
    " - clu_idx: RGCs: 1-39, uncertain RGCs: 40-49, other: 50-76"
   ]
  },
  {
   "cell_type": "markdown",
   "metadata": {},
   "source": [
    "# Setup"
   ]
  },
  {
   "cell_type": "code",
   "execution_count": 1,
   "metadata": {},
   "outputs": [],
   "source": [
    "## Library setup\n",
    "\n",
    "# Misc libs\n",
    "from __future__ import print_function\n",
    "import warnings\n",
    "\n",
    "# Data libs\n",
    "import sys\n",
    "import os # directory lib\n",
    "import h5py # HDF5 lib\n",
    "import numpy as np # linear alg lib\n",
    "import scipy.io as sio\n",
    "from scipy import interpolate\n",
    "import time\n",
    "\n",
    "# Custom modules\n",
    "sys.path.append('../utils/') # Import path to utility functions\n",
    "import postProc as pop # Import PostProcessing module (functions: normalization, interpolation, QI etc.)\n",
    "\n",
    "%matplotlib inline "
   ]
  },
  {
   "cell_type": "code",
   "execution_count": 2,
   "metadata": {},
   "outputs": [
    {
     "data": {
      "text/plain": [
       "{'groupVClu': 'clu',\n",
       " 'loadDir': '../../data/2P/original/',\n",
       " 'loadFid': 'BadenEtAl_RGCs_2016_v1.mat',\n",
       " 'saveDir': '../../data/2P/proc/',\n",
       " 'saveFid': 'BadenEtAl_RGCs_2016_ogb1_clu_ogb1Kern_7.8Hz.mat',\n",
       " 'fileFmt': '.mat',\n",
       " 'stim': ['chirp', 'bar'],\n",
       " 'rgcRangeGroup': [1, 32],\n",
       " 'rgcRangeClu': [1, 49],\n",
       " 'doNorm': True,\n",
       " 'normMode': 'medMax',\n",
       " 'doResample': False,\n",
       " 'newSRate': 40,\n",
       " 'deconvMethod': 'ogb1Kern'}"
      ]
     },
     "execution_count": 2,
     "metadata": {},
     "output_type": "execute_result"
    }
   ],
   "source": [
    "# Parameter setup\n",
    "p = {}\n",
    "p.update({\n",
    "        # Choose if analysing groups or clusters\n",
    "        'groupVClu': 'clu', # OPTIONS: 'group', 'clu'\n",
    "        \n",
    "        # IO pars\n",
    "        'loadDir': \"../../data/2P/original/\", # load directory\n",
    "        'loadFid': \"BadenEtAl_RGCs_2016_v1.mat\",\n",
    "        'saveDir': \"../../data/2P/proc/\", # save directory        \n",
    "        'saveFid': 'BadenEtAl_RGCs_2016_ogb1', # file ID for group ana        \n",
    "        'fileFmt': '.mat', # file format\n",
    "\n",
    "        ## RGC-cells (see pre-info)\n",
    "        \n",
    "        # Set stimuli of interest & var names for dataframe accordingly\n",
    "        'stim': [\"chirp\", \"bar\"], # stimulus name\n",
    "        \n",
    "        # Cell type pars\n",
    "        'rgcRangeGroup': [1, 32], # Set range of RGC cell groups (see info)\n",
    "        'rgcRangeClu': [1, 49], # Set range of RGC cell clusters (see info)\n",
    "        \n",
    "        # Normalization pars\n",
    "        'doNorm': True, # Set if to do normalization or not\n",
    "        'normMode': 'medMax', # see normalization function in utils/postProc.py\n",
    "        \n",
    "        # Resampling pars\n",
    "        'doResample': False,\n",
    "        'newSRate': 40, # Desired sampling rate in Hz (old: 7.825)\n",
    "        \n",
    "        # Deconvolution pars\n",
    "        'deconvMethod': 'ogb1Kern',\n",
    "        })\n",
    "\n",
    "\n",
    "# Build save file name\n",
    "p['saveFid'] = p['saveFid']+\"_\"+p['groupVClu']+\"_\"+p['deconvMethod']\n",
    "if p['doResample']:\n",
    "    p['saveFid'] = p['saveFid']+\"_\"+str(p['newSRate'])+\"Hz\"+p['fileFmt']\n",
    "else:\n",
    "    p['saveFid'] = p['saveFid']+\"_\"+\"7.8Hz\"+p['fileFmt']\n",
    "\n",
    "p"
   ]
  },
  {
   "cell_type": "markdown",
   "metadata": {},
   "source": [
    "# Load"
   ]
  },
  {
   "cell_type": "code",
   "execution_count": 3,
   "metadata": {},
   "outputs": [
    {
     "data": {
      "text/plain": [
       "[('ans', (1, 1), 'double'),\n",
       " ('noise_time', (11210, 1), 'struct'),\n",
       " ('noise_trace', (1750, 11210), 'double'),\n",
       " ('noise_stim', (20, 15, 1750, 171), 'double'),\n",
       " ('cluster_idx', (11210, 1), 'double'),\n",
       " ('group_idx', (11210, 1), 'double'),\n",
       " ('c2g', (1, 75), 'double'),\n",
       " ('sel_idx', (11210, 1), 'logical'),\n",
       " ('cell_dsi', (11210, 1), 'double'),\n",
       " ('cell_dp', (11210, 1), 'double'),\n",
       " ('cell_osi', (11210, 1), 'double'),\n",
       " ('cell_op', (11210, 1), 'double'),\n",
       " ('cell_area', (11210, 1), 'double'),\n",
       " ('cell_volume', (11210, 1), 'double'),\n",
       " ('cell_id', (11210, 7), 'double'),\n",
       " ('cell_oo_idx', (11210, 1), 'double'),\n",
       " ('cell_ff_idx', (11210, 1), 'double'),\n",
       " ('chirp_avg', (249, 11210), 'double'),\n",
       " ('chirp_byrepeat', (249, 5, 11210), 'double'),\n",
       " ('chirp_time', (1, 249), 'double'),\n",
       " ('chirp_stim', (31988, 1), 'double'),\n",
       " ('chirp_stim_time', (1, 31988), 'double'),\n",
       " ('chirp_qi', (11210, 1), 'double'),\n",
       " ('chirp_scaling', (11210, 1), 'double'),\n",
       " ('bar_byrepeat', (32, 8, 3, 11210), 'double'),\n",
       " ('bar_tc', (32, 11210), 'double'),\n",
       " ('bar_qi', (11210, 1), 'double'),\n",
       " ('bar_time', (1, 32), 'double'),\n",
       " ('rf_tc', (80, 11210), 'double'),\n",
       " ('rf_time', (1, 80), 'double'),\n",
       " ('rf_qi', (11210, 1), 'double'),\n",
       " ('rf_size', (11210, 1), 'double'),\n",
       " ('rf_map', (20, 15, 11210), 'double'),\n",
       " ('rf_gauss_mean', (11210, 2), 'double'),\n",
       " ('rf_gauss_std', (11210, 2), 'double'),\n",
       " ('color_avg', (96, 11210), 'double'),\n",
       " ('color_byrepeat', (96, 7, 11210), 'double'),\n",
       " ('color_time', (1, 96), 'double'),\n",
       " ('color_qi', (11210, 1), 'double'),\n",
       " ('immuno_gad', (11210, 1), 'double'),\n",
       " ('immuno_chat', (11210, 1), 'double'),\n",
       " ('immuno_smi', (11210, 1), 'double'),\n",
       " ('immuno_melanopsin', (11210, 1), 'double'),\n",
       " ('genetics_pv', (11210, 1), 'double'),\n",
       " ('genetics_pcp', (11210, 1), 'double'),\n",
       " ('structural', (64, 64, 171), 'double'),\n",
       " ('rois', (64, 64, 171), 'double'),\n",
       " ('offsets', (0, 0), 'double')]"
      ]
     },
     "execution_count": 3,
     "metadata": {},
     "output_type": "execute_result"
    }
   ],
   "source": [
    "# Load Baden2016 data\n",
    "ogb1 = sio.loadmat(p['loadDir']+p['loadFid'])\n",
    "sio.whosmat(p['loadDir']+p['loadFid'])"
   ]
  },
  {
   "cell_type": "markdown",
   "metadata": {},
   "source": [
    "## Get Ca++ intensity traces of ROIs stimuli: trial averages"
   ]
  },
  {
   "cell_type": "code",
   "execution_count": 4,
   "metadata": {},
   "outputs": [
    {
     "name": "stdout",
     "output_type": "stream",
     "text": [
      "(249, 11210)\n",
      "(32, 11210)\n"
     ]
    }
   ],
   "source": [
    "# Chirp stim\n",
    "chirpAvg = ogb1['chirp_avg']\n",
    "print(chirpAvg.shape)\n",
    "\n",
    "# DS stim\n",
    "barAvg = ogb1['bar_tc']\n",
    "print(barAvg.shape)"
   ]
  },
  {
   "cell_type": "markdown",
   "metadata": {},
   "source": [
    "## Get stimulus times"
   ]
  },
  {
   "cell_type": "code",
   "execution_count": 5,
   "metadata": {
    "scrolled": true
   },
   "outputs": [
    {
     "name": "stdout",
     "output_type": "stream",
     "text": [
      "(249,)\n",
      "chirpTime: 0.06415421686746987 31.884645783132527\n",
      "chirpDur: 31.82049156626506\n",
      "chirpFps: 7.825146242051799\n",
      "32.0\n",
      "(32,)\n",
      "barTime: 0.0 4.0\n",
      "barDur: 4.0\n",
      "barFps: 8.0\n"
     ]
    }
   ],
   "source": [
    "# Chirp\n",
    "chirpTime = ogb1['chirp_time'][0]\n",
    "print(chirpTime.shape)\n",
    "print('chirpTime:', chirpTime[0], chirpTime[-1])\n",
    "chirpDur = chirpTime[-1] - chirpTime[0]\n",
    "print('chirpDur:', chirpDur)\n",
    "p['chirpFps'] = chirpTime.shape[0] / chirpDur\n",
    "print('chirpFps:', p['chirpFps'])\n",
    "\n",
    "chirpStimTime = ogb1['chirp_stim_time'][0]\n",
    "print(chirpStimTime[-1])\n",
    "\n",
    "# Bar\n",
    "barTime = ogb1['bar_time'][0]\n",
    "print(barTime.shape)\n",
    "print('barTime:', barTime[0], barTime[-1])\n",
    "barDur = barTime[-1] - barTime[0]\n",
    "print('barDur:', barDur)\n",
    "p['barFps'] = barTime.shape[0] / barDur\n",
    "print('barFps:', p['barFps'])"
   ]
  },
  {
   "cell_type": "markdown",
   "metadata": {},
   "source": [
    "## Get group/cluster indices of ROIs"
   ]
  },
  {
   "cell_type": "code",
   "execution_count": 6,
   "metadata": {
    "scrolled": true
   },
   "outputs": [
    {
     "name": "stdout",
     "output_type": "stream",
     "text": [
      "nCells: (11210, 1)\n",
      "unique indices:\n",
      " [-1  1  2  3  4  5  6  7  8  9 10 11 12 13 14 15 16 17 18 19 20 21 22 23\n",
      " 24 25 26 27 28 29 30 31 32 33 34 35 36 37 38 39 40 41 42 43 44 45 46 47\n",
      " 48 49 50 51 52 53 54 55 56 57 58 59 60 61 62 63 64 65 66 67 68 69 70 71\n",
      " 72 73 74 75]\n"
     ]
    }
   ],
   "source": [
    "# RGCs: 1-28, uncertain: 29-32, other: > 32\n",
    "\n",
    "# Get groups or clusters depending on parameter setting\n",
    "if p['groupVClu'] == 'clu':\n",
    "    indices = ogb1['cluster_idx']\n",
    "elif p['groupVClu'] == 'group':\n",
    "    indices = ogb1['group_idx']\n",
    "\n",
    "print('nCells:', indices.shape)\n",
    "print('unique indices:\\n', np.unique(indices)) # check that indices contains indices as specified in help text"
   ]
  },
  {
   "cell_type": "markdown",
   "metadata": {},
   "source": [
    "## Get quality indices (QI) for cells - see Baden2016 or getGcamp6Data for details"
   ]
  },
  {
   "cell_type": "code",
   "execution_count": 7,
   "metadata": {},
   "outputs": [
    {
     "name": "stdout",
     "output_type": "stream",
     "text": [
      "(11210, 1)\n",
      "0.09830159693956375\n",
      "1.0\n",
      "[0.0983016 0.120863  0.128501  0.140333  0.153041  0.158132  0.158632\n",
      " 0.164066  0.164329  0.166061 ]\n",
      "(11210, 1)\n",
      "[0.45854601 0.92307502 0.49250901 0.90350097 0.86311299 0.86117202\n",
      " 0.34725001 0.64195597 0.867962   0.84226602]\n",
      "0.2651970088481903\n",
      "0.989113986492157\n",
      "[0.26519701 0.271816   0.302178   0.323476   0.32687101 0.330311\n",
      " 0.331785   0.33274299 0.33759701 0.33906299]\n"
     ]
    }
   ],
   "source": [
    "# Chirp\n",
    "chirpQi = ogb1['chirp_qi']\n",
    "print(chirpQi.shape)\n",
    "print(np.min(chirpQi))\n",
    "print(np.max(chirpQi))\n",
    "print(np.sort(chirpQi, axis=0)[0:10,0])\n",
    "\n",
    "# Bar\n",
    "barQi = ogb1['bar_qi']\n",
    "print(barQi.shape)\n",
    "print(barQi[0:10,0])\n",
    "print(np.min(barQi))\n",
    "print(np.max(barQi))\n",
    "print(np.sort(barQi, axis=0)[0:10,0])"
   ]
  },
  {
   "cell_type": "markdown",
   "metadata": {},
   "source": [
    "## Get cell direction selectivity\n",
    "cell direction selectivity will be used as step 1 in pre-clustering gcmap6 cells into DS or non-DS"
   ]
  },
  {
   "cell_type": "code",
   "execution_count": 8,
   "metadata": {
    "scrolled": true
   },
   "outputs": [
    {
     "name": "stdout",
     "output_type": "stream",
     "text": [
      "example cell DSIs:\n",
      " [[0.28003699 0.40977299 0.31827399 0.48289701 0.25057    0.36130801\n",
      "  0.109525   0.34162799 0.336631   0.51661801]]\n",
      "examples cell DSI p-vals:\n",
      " [[0.62599999 0.004      0.16       0.         0.204      0.002\n",
      "  0.66100001 0.18000001 0.008      0.093     ]]\n",
      "examples: DS or not:\n",
      " [[0 1 0 1 0 1 0 0 1 0]]\n"
     ]
    }
   ],
   "source": [
    "# Get cell Direction selectivity index (DSI)\n",
    "cellDsi = ogb1['cell_dsi']\n",
    "print('example cell DSIs:\\n', cellDsi[0:10].T)\n",
    "# Get cell DSI p-value\n",
    "cellDsiPval = ogb1['cell_dp']\n",
    "print('examples cell DSI p-vals:\\n', cellDsiPval[0:10].T)\n",
    "\n",
    "# Make logical index of DSI-cells := DSI-Pval <= 0.05\n",
    "cellDsiBool = np.zeros((len(cellDsi),1), dtype=int)\n",
    "for idx, val in enumerate(cellDsiPval):\n",
    "    if val <= 0.05:\n",
    "        cellDsiBool[idx] = 1\n",
    "\n",
    "print('examples: DS or not:\\n', cellDsiBool[0:10].T)"
   ]
  },
  {
   "cell_type": "markdown",
   "metadata": {},
   "source": [
    "## Get cell soma area\n",
    "Soma size (area) of groups will be used as step 2 (after DS-pre-clustering) in pre-clustering cells into large vs small"
   ]
  },
  {
   "cell_type": "code",
   "execution_count": 9,
   "metadata": {
    "scrolled": true
   },
   "outputs": [
    {
     "name": "stdout",
     "output_type": "stream",
     "text": [
      "[[24.22489929 43.06639862 34.99150085 ... 40.3748     64.5996\n",
      "  51.1414    ]]\n"
     ]
    }
   ],
   "source": [
    "cellArea = ogb1['cell_area']\n",
    "print(cellArea.T)"
   ]
  },
  {
   "cell_type": "markdown",
   "metadata": {},
   "source": [
    "# Process data"
   ]
  },
  {
   "cell_type": "markdown",
   "metadata": {},
   "source": [
    "## Reduce data to RGC groups/clusters only"
   ]
  },
  {
   "cell_type": "code",
   "execution_count": 10,
   "metadata": {},
   "outputs": [
    {
     "name": "stdout",
     "output_type": "stream",
     "text": [
      "(249, 5024)\n",
      "(32, 5024)\n"
     ]
    }
   ],
   "source": [
    "### Get average traces of RGCs only\n",
    "if p['groupVClu'] == 'group':\n",
    "    rgcRange = p['rgcRangeGroup']\n",
    "elif p['groupVClu'] == 'clu':\n",
    "    rgcRange = p['rgcRangeClu']\n",
    "\n",
    "# Chirp\n",
    "chirpAvgRgc = chirpAvg[:, np.where((indices>=rgcRange[0]) & (indices<=rgcRange[1]))[0]]\n",
    "print(chirpAvgRgc.shape)\n",
    "\n",
    "# Bar\n",
    "barAvgRgc = barAvg[:, np.where((indices>=rgcRange[0]) & (indices<=rgcRange[1]))[0]]\n",
    "print(barAvgRgc.shape)"
   ]
  },
  {
   "cell_type": "code",
   "execution_count": 11,
   "metadata": {},
   "outputs": [
    {
     "name": "stdout",
     "output_type": "stream",
     "text": [
      "(5024,)\n",
      "[ 1  2  3  4  5  6  7  8  9 10 11 12 13 14 15 16 17 18 19 20 21 22 23 24\n",
      " 25 26 27 28 29 30 31 32 33 34 35 36 37 38 39 40 41 42 43 44 45 46 47 48\n",
      " 49]\n",
      "[18 17 44 23 20 22 29 22 22 41 17 20 20 14 31 26 44  9 23 22]\n"
     ]
    }
   ],
   "source": [
    "### Get indices of RGCs only\n",
    "indicesRgc = indices[(indices>=rgcRange[0]) & (indices<=rgcRange[1])]\n",
    "print(indicesRgc.shape)\n",
    "print(np.unique(indicesRgc))\n",
    "print(indicesRgc[0:20]) # print example"
   ]
  },
  {
   "cell_type": "code",
   "execution_count": 12,
   "metadata": {},
   "outputs": [
    {
     "name": "stdout",
     "output_type": "stream",
     "text": [
      "(5024,)\n"
     ]
    }
   ],
   "source": [
    "### Get cellDsiBool of RGCs only\n",
    "cellDsiBool = cellDsiBool[(indices>=rgcRange[0]) & (indices<=rgcRange[1])]\n",
    "print(cellDsiBool.shape)"
   ]
  },
  {
   "cell_type": "markdown",
   "metadata": {},
   "source": [
    "## Resample OGB-1 data"
   ]
  },
  {
   "cell_type": "code",
   "execution_count": 13,
   "metadata": {},
   "outputs": [],
   "source": [
    "if p['doResample']:\n",
    "    print('Resampling to %.3f Hz' %p['newSRate'])\n",
    "    # Chirp\n",
    "    p['chirpFps'] = p['newSRate']\n",
    "    print(chirpAvgRgc.shape)\n",
    "    chirpAvgRgc = pop.interpNewSRate(chirpAvgRgc, p['chirpFps'], chirpDur)\n",
    "    print(chirpAvgRgc.shape)\n",
    "\n",
    "    # Bar\n",
    "    p['barFps'] = p['newSRate']\n",
    "    print(barAvgRgc.shape)\n",
    "    barAvgRgc = pop.interpNewSRate(barAvgRgc, p['barFps'], barDur)\n",
    "    print(barAvgRgc.shape)"
   ]
  },
  {
   "cell_type": "code",
   "execution_count": 14,
   "metadata": {},
   "outputs": [
    {
     "name": "stdout",
     "output_type": "stream",
     "text": [
      "(249,)\n",
      "(32,)\n"
     ]
    }
   ],
   "source": [
    "# Adjust stimulus times to resampled traces\n",
    "chirpTime = np.linspace(chirpTime[0], chirpTime[-1], chirpAvgRgc.shape[0])\n",
    "print(chirpTime.shape)\n",
    "\n",
    "barTime = np.linspace(barTime[0], barTime[-1], barAvgRgc.shape[0])\n",
    "print(barTime.shape)"
   ]
  },
  {
   "cell_type": "markdown",
   "metadata": {},
   "source": [
    "## Get avg traces and deconvolved traces of each RGC group for chirp and bar stimulus\n",
    "- NOTE: mean traces are normalized like in Baden2016 <> deconvolved traces are range-normalized (due to non-negativity of firing rates) "
   ]
  },
  {
   "cell_type": "code",
   "execution_count": 16,
   "metadata": {
    "scrolled": true
   },
   "outputs": [
    {
     "name": "stdout",
     "output_type": "stream",
     "text": [
      "chirp clu 1\n",
      "chirp clu 2\n",
      "chirp clu 3\n",
      "chirp clu 4\n",
      "chirp clu 5\n",
      "chirp clu 6\n",
      "chirp clu 7\n",
      "chirp clu 8\n",
      "chirp clu 9\n",
      "chirp clu 10\n",
      "chirp clu 11\n",
      "chirp clu 12\n",
      "chirp clu 13\n",
      "chirp clu 14\n",
      "chirp clu 15\n",
      "chirp clu 16\n",
      "chirp clu 17\n",
      "chirp clu 18\n",
      "chirp clu 19\n",
      "chirp clu 20\n",
      "chirp clu 21\n",
      "chirp clu 22\n",
      "chirp clu 23\n",
      "chirp clu 24\n",
      "chirp clu 25\n",
      "chirp clu 26\n",
      "chirp clu 27\n",
      "chirp clu 28\n",
      "chirp clu 29\n",
      "chirp clu 30\n",
      "chirp clu 31\n",
      "chirp clu 32\n",
      "chirp clu 33\n",
      "chirp clu 34\n",
      "chirp clu 35\n",
      "chirp clu 36\n",
      "chirp clu 37\n",
      "chirp clu 38\n",
      "chirp clu 39\n",
      "chirp clu 40\n",
      "chirp clu 41\n",
      "chirp clu 42\n",
      "chirp clu 43\n",
      "chirp clu 44\n",
      "chirp clu 45\n",
      "chirp clu 46\n",
      "chirp clu 47\n",
      "chirp clu 48\n",
      "chirp clu 49\n",
      "(249, 49)\n",
      "bar clu 1\n",
      "bar clu 2\n",
      "bar clu 3\n",
      "bar clu 4\n",
      "bar clu 5\n",
      "bar clu 6\n",
      "bar clu 7\n",
      "bar clu 8\n",
      "bar clu 9\n",
      "bar clu 10\n",
      "bar clu 11\n",
      "bar clu 12\n",
      "bar clu 13\n",
      "bar clu 14\n",
      "bar clu 15\n",
      "bar clu 16\n",
      "bar clu 17\n",
      "bar clu 18\n",
      "bar clu 19\n",
      "bar clu 20\n",
      "bar clu 21\n",
      "bar clu 22\n",
      "bar clu 23\n",
      "bar clu 24\n",
      "bar clu 25\n",
      "bar clu 26\n",
      "bar clu 27\n",
      "bar clu 28\n",
      "bar clu 29\n",
      "bar clu 30\n",
      "bar clu 31\n",
      "bar clu 32\n",
      "bar clu 33\n",
      "bar clu 34\n",
      "bar clu 35\n",
      "bar clu 36\n",
      "bar clu 37\n",
      "bar clu 38\n",
      "bar clu 39\n",
      "bar clu 40\n",
      "bar clu 41\n",
      "bar clu 42\n",
      "bar clu 43\n",
      "bar clu 44\n",
      "bar clu 45\n",
      "bar clu 46\n",
      "bar clu 47\n",
      "bar clu 48\n",
      "bar clu 49\n",
      "(32, 49)\n",
      "DONE.\n",
      "Duration: 1.08 sec = 0.02 min\n"
     ]
    }
   ],
   "source": [
    "# Time cell execution\n",
    "start = time.time()\n",
    "\n",
    "## Chirp stimulus\n",
    "# Initialize 2D arrays\n",
    "tPoints = chirpAvgRgc.shape[0]\n",
    "nGroups = np.unique(indicesRgc).shape[0]\n",
    "chirpAvgRgcMean = np.zeros((tPoints, nGroups))\n",
    "chirpAvgRgcMed = np.zeros((tPoints, nGroups))\n",
    "chirpAvgRgcSd = np.zeros((tPoints, nGroups))\n",
    "chirpAvgRgcDeconvMean = np.zeros((tPoints, nGroups))\n",
    "chirpAvgRgcDeconvSd = np.zeros((tPoints, nGroups))\n",
    "chirpN = np.zeros((1, nGroups), dtype=int)\n",
    "\n",
    "# Process each RGC cluster/group\n",
    "for idx, iRGC in enumerate(np.unique(indicesRgc)):\n",
    "    \n",
    "    print('chirp %s %i' %(p['groupVClu'], iRGC))\n",
    "    \n",
    "    # Get mean (normalize for mean)\n",
    "    chirpAvgRgc[:, indicesRgc==iRGC] = pop.normalize(chirpAvgRgc[:, indicesRgc==iRGC], mode='meanMax')\n",
    "    chirpAvgRgcMean[:, idx] = np.mean(chirpAvgRgc[:, indicesRgc==iRGC], axis=1)\n",
    "    chirpAvgRgcSd[:, idx] = np.std(chirpAvgRgc[:, indicesRgc==iRGC], axis=1)\n",
    "\n",
    "    # Get median (normalize for median)\n",
    "    chirpAvgRgc[:, indicesRgc==iRGC] = pop.normalize(chirpAvgRgc[:, indicesRgc==iRGC], mode='medMax')\n",
    "    chirpAvgRgcMed[:, idx] = np.median(chirpAvgRgc[:, indicesRgc==iRGC], axis=1)\n",
    "    \n",
    "    chirpN[0, idx] = chirpAvgRgc[:, indicesRgc==iRGC].shape[1]\n",
    "    \n",
    "    ## Deconvolve    \n",
    "    # mean(Deconv single traces): deconvolve single traces, then take the mean\n",
    "    traces = chirpAvgRgc[:, indicesRgc==iRGC]\n",
    "    d, traceSm = pop.deconv(traces, fps=p['chirpFps'], method=p['deconvMethod'], smooth=True, norm=True)\n",
    "    d = pop.normalize(d, mode='meanR') # Normalize \n",
    "    chirpAvgRgcDeconvMean[:,idx] = np.mean(d, axis=1)\n",
    "    chirpAvgRgcDeconvSd[:,idx] = np.std(d, axis=1)\n",
    "\n",
    "print(chirpAvgRgcMean.shape)\n",
    "\n",
    "## Bar stimulus\n",
    "# Initialize 2D array\n",
    "tPoints = barAvgRgc.shape[0]\n",
    "nGroups = np.unique(indicesRgc).shape[0]\n",
    "barAvgRgcMean = np.zeros((tPoints, nGroups))\n",
    "barAvgRgcMed = np.zeros((tPoints, nGroups))\n",
    "barAvgRgcSd = np.zeros((tPoints, nGroups))\n",
    "barAvgRgcDeconvMean = np.zeros((tPoints, nGroups))\n",
    "barAvgRgcDeconvSd = np.zeros((tPoints, nGroups))\n",
    "barN = np.zeros((1, nGroups), dtype=int)\n",
    "\n",
    "# Process each RGC group\n",
    "for idx,iRGC in enumerate(np.unique(indicesRgc)):\n",
    "    \n",
    "    print('bar %s %i' %(p['groupVClu'], iRGC))\n",
    "    \n",
    "    # Get mean (normalize for mean)\n",
    "    barAvgRgc[:, indicesRgc==iRGC] = pop.normalize(barAvgRgc[:, indicesRgc==iRGC], mode='meanMax')\n",
    "    barAvgRgcMean[:, idx] = np.mean(barAvgRgc[:, indicesRgc==iRGC], axis=1)\n",
    "    barAvgRgcSd[:, idx] = np.std(barAvgRgc[:, indicesRgc==iRGC], axis=1)\n",
    "\n",
    "    # Get median (normalize for median)\n",
    "    barAvgRgc[:, indicesRgc==iRGC] = pop.normalize(barAvgRgc[:, indicesRgc==iRGC], mode='medMax')\n",
    "    barAvgRgcMed[:, idx] = np.median(barAvgRgc[:, indicesRgc==iRGC], axis=1)\n",
    "    \n",
    "    barN[0, idx] = barAvgRgc[:, indicesRgc==iRGC].shape[1]    \n",
    "    \n",
    "    ## Deconvolve\n",
    "    # mean(Deconv single traces)\n",
    "    traces = barAvgRgc[:, indicesRgc==iRGC]\n",
    "    d, traceSm = pop.deconv(traces, fps=p['barFps'], method=p['deconvMethod'], smooth=True, norm=True)\n",
    "    d = pop.normalize(d, mode='meanR') # Normalize \n",
    "    barAvgRgcDeconvMean[:,idx] = np.mean(d, axis=1)\n",
    "    barAvgRgcDeconvSd[:,idx] = np.std(d, axis=1)\n",
    "    barAvgRgcDeconvMean[:,idx] = pop.normalize(np.mean(d, axis=1), mode='r') # Normalize\n",
    "    \n",
    "print(barAvgRgcMean.shape)\n",
    "\n",
    "print('DONE.')\n",
    "dur = (time.time() - start)\n",
    "print('Duration: %.2f sec = %.2f min' %(dur, dur/60))"
   ]
  },
  {
   "cell_type": "markdown",
   "metadata": {},
   "source": [
    "## save"
   ]
  },
  {
   "cell_type": "code",
   "execution_count": 55,
   "metadata": {},
   "outputs": [
    {
     "name": "stdout",
     "output_type": "stream",
     "text": [
      "Saving to: ../../data/2P/proc/BadenEtAl_RGCs_2016_ogb1_clu_ogb1Kern_7.8Hz.mat\n"
     ]
    }
   ],
   "source": [
    "# Check save directory\n",
    "print('Saving to:', p['saveDir']+p['saveFid'])"
   ]
  },
  {
   "cell_type": "code",
   "execution_count": 56,
   "metadata": {},
   "outputs": [
    {
     "name": "stdout",
     "output_type": "stream",
     "text": [
      "Saved to: ../../data/2P/proc/\n"
     ]
    }
   ],
   "source": [
    "# Save .mat file\n",
    "sio.savemat(p['saveDir'],\n",
    "            {'chirpMean': chirpAvgRgcMean,\n",
    "             'chirpMed': chirpAvgRgcMed,\n",
    "             'chirpSd': chirpAvgRgcSd,\n",
    "             'chirpDeconvMean': chirpAvgRgcDeconvMean,\n",
    "             'chirpDeconvSd': chirpAvgRgcDeconvSd,\n",
    "             'chirpTime': chirpTime,\n",
    "             'chirpN': chirpN,\n",
    "             \n",
    "             'barMean': barAvgRgcMean,\n",
    "             'barMed': barAvgRgcMed,             \n",
    "             'barSd': barAvgRgcSd,\n",
    "             'barDeconvMean': barAvgRgcDeconvMean,\n",
    "             'barDeconvSd': barAvgRgcDeconvSd,\n",
    "             'barTime': barTime,\n",
    "             'barN': barN,\n",
    "             \n",
    "             'dsIdx': groupDsIdx,\n",
    "             'somaSizeIdx': somaSizeindices,\n",
    "            })\n",
    "print('Saved to:', p['saveDir']+p['saveFid'])"
   ]
  }
 ],
 "metadata": {
  "anaconda-cloud": {},
  "kernelspec": {
   "display_name": "Python 3",
   "language": "python",
   "name": "python3"
  },
  "language_info": {
   "codemirror_mode": {
    "name": "ipython",
    "version": 3
   },
   "file_extension": ".py",
   "mimetype": "text/x-python",
   "name": "python",
   "nbconvert_exporter": "python",
   "pygments_lexer": "ipython3",
   "version": "3.6.6"
  }
 },
 "nbformat": 4,
 "nbformat_minor": 2
}
