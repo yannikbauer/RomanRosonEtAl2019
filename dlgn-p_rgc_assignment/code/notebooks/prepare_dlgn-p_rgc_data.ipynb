{
 "cells": [
  {
   "cell_type": "markdown",
   "metadata": {},
   "source": [
    "# prepare_dlgn-p_rgc_data\n",
    "This notebook loads the dataset of stimulus responses of dLGN-projecting RGCs, labelled retrogradely via \n",
    "dLGN-injection of a herpes simplex virus, and recorded using the Calcium-indicator GCaMP6f with a two-photon microscope.\n",
    "\n",
    "### input\n",
    "Multiple HDF5-files of pre-processed dLGN-p RGC fluorescence data.\n",
    "One .mat file of prepared Baden2016 data, output by prepare_Baden2016_data.ipynb\n",
    "\n",
    "\n",
    "### ouput\n",
    "Single HDF5 file of pre-processed, resampled, normalized, deconvolved fluorescene data, including quality index  (QI) analysis of signal-to-noise ratio.\n",
    "\n",
    "## Instructional note\n",
    "While the pre-processed fluorescence data is stored on the lab-internal database currently not accessible from outside, this analysis file is still included to demonstrate the data preparation steps. The output HDF5 file has to be downloaded"
   ]
  },
  {
   "cell_type": "markdown",
   "metadata": {},
   "source": [
    "# Setup"
   ]
  },
  {
   "cell_type": "code",
   "execution_count": 1,
   "metadata": {
    "scrolled": false
   },
   "outputs": [],
   "source": [
    "# Library/module setup\n",
    "\n",
    "# System libs\n",
    "import sys # system lib\n",
    "import os # directory lib\n",
    "\n",
    "# Data libs\n",
    "import h5py # HDF5 lib\n",
    "import numpy as np\n",
    "import pandas as pd\n",
    "from pandas import HDFStore\n",
    "import scipy\n",
    "import scipy.io\n",
    "import copy\n",
    "import time\n",
    "\n",
    "# Misc libs\n",
    "# for integration of plots into jupyter nb\n",
    "%matplotlib inline\n",
    "\n",
    "# Custom libs/mods\n",
    "sys.path.append('../utils/') # Import path to utility function: norm.py, interp.py\n",
    "import postProc as pop # Import PostProcessing module (functions: normalization, interpolation, QI etc.)\n",
    "try:\n",
    "    import pycircstat as circ # Philipp Berens' circular statistics lib (use pip install if not present)\n",
    "except ImportError:\n",
    "    !pip install pycircstat\n",
    "try:\n",
    "    import peakutils as pk # needed for Euler Lab classFuncs\n",
    "except ImportError:\n",
    "    !pip install peakutils\n",
    "\n",
    "sys.path.append('../../../code/ret_preproc/dataProcessing/Python/postProcessing') # EulerLab retina postprocessing code\n",
    "import classFuncs as cf # Euler Lab function set, import all"
   ]
  },
  {
   "cell_type": "code",
   "execution_count": 2,
   "metadata": {
    "collapsed": true
   },
   "outputs": [],
   "source": [
    "# Fig par\n",
    "plt.style.use('ggplot')"
   ]
  },
  {
   "cell_type": "code",
   "execution_count": 17,
   "metadata": {},
   "outputs": [
    {
     "data": {
      "text/plain": [
       "{'loadDirRaw': '../../data/2P/raw/gcamp6/',\n",
       " 'loadDirProc': '../../data/2P/proc/',\n",
       " 'saveDir': '../../data/2P/proc/',\n",
       " 'saveFid': 'dlgn-p_rgc_data_gcamp6fKern_7.8Hz.h5',\n",
       " 'savefileFmt': '.h5',\n",
       " 'dtype': 'Pre',\n",
       " 'fidOgb1': 'BadenEtAl_RGCs_2016_ogb1_clu_ogb1Kern_7.8Hz.mat',\n",
       " 'fileFmtOgb1': '.mat',\n",
       " 'groupVClu': 'clu',\n",
       " 'deconvMethodO1': 'ogb1Kern',\n",
       " 'fps': '7.8Hz',\n",
       " 'stim': ['chirp', 'bar'],\n",
       " 'stimFile': ['Chirps.h5', 'DS.h5'],\n",
       " 'chirpDurGcamp6': 32.782,\n",
       " 'normMode': 'meanMax',\n",
       " 'deconvMethod': 'gcamp6fKern',\n",
       " 'chirpMinQi': 0.45,\n",
       " 'barMinQi': 0.6}"
      ]
     },
     "execution_count": 17,
     "metadata": {},
     "output_type": "execute_result"
    }
   ],
   "source": [
    "# Parameter setup\n",
    "p = {}\n",
    "p.update({\n",
    "         # IO pars\n",
    "        'loadDirRaw': \"../../data/2P/raw/gcamp6/\", # load directory raw gcamp6f data\n",
    "        'loadDirProc': \"../../data/2P/proc/\", # load directory processed data\n",
    "        'saveDir': \"../../data/2P/proc/\", # save directory\n",
    "        'saveFid': \"dlgn-p_rgc_data\",# \"gcamp6Data_gcamp6fKern_40Hz.h5\", # save as HDF5 file\n",
    "        'savefileFmt': '.h5',\n",
    "        'dtype': 'Pre', # work on preprocessed data (hdf5)\n",
    "        \n",
    "        # Choose what ogb-1 data to base analysis on\n",
    "        'fidOgb1': 'BadenEtAl_RGCs_2016_ogb1', # processed OGB-1 file (OGB1 groups)\n",
    "        'fileFmtOgb1': '.mat', \n",
    "        'groupVClu': 'clu', # OPTIONS: 'group', 'clu'\n",
    "        'deconvMethodO1': 'ogb1Kern', # OPTIONS: 'ogb1Kern', 'foopsi'\n",
    "        'fps': '7.8Hz',\n",
    "        \n",
    "        # Set stimuli of interest & var names for dataframe accordingly\n",
    "        'stim': [\"chirp\", \"bar\"], # stimulus name\n",
    "        'stimFile': [\"Chirps.h5\", \"DS.h5\"], # stimulus file name (NOTE: put same order as 'stim'!)\n",
    "        \n",
    "        # Resampling pars\n",
    "        'chirpDurGcamp6': 32.782, #  mean chirp duration in gcamp6f data\n",
    "        \n",
    "        # Normalization pars\n",
    "        'normMode': 'meanMax', # OPTIONS: 'meanMax', 'medMax', 'r', 'z' (more options, see postProc.py)\n",
    "        \n",
    "        # Deconvolution pars\n",
    "        'deconvMethod': 'gcamp6fKern', # OPTIONS: 'gcamp6fKern', 'foopsi'\n",
    "        \n",
    "        # Quality index (QI) pars\n",
    "        'chirpMinQi': 0.45, # Baden2016: 0.45\n",
    "        'barMinQi': 0.6, # Baden2016: 0.6\n",
    "    })\n",
    "\n",
    "\n",
    "# Build file names\n",
    "p['saveFid'] = p['saveFid']+\"_\"+p['deconvMethod']+\"_\"+p['fps']+p['savefileFmt']\n",
    "p['fidOgb1'] = p['fidOgb1']+\"_\"+p['groupVClu']+\"_\"+p['deconvMethodO1']+\"_\"+p['fps']+p['fileFmtOgb1']\n",
    "p"
   ]
  },
  {
   "cell_type": "markdown",
   "metadata": {},
   "source": [
    "# Load processed ogb1-data\n",
    "here, only used for time alignment of gcamp6gf"
   ]
  },
  {
   "cell_type": "code",
   "execution_count": 6,
   "metadata": {},
   "outputs": [
    {
     "data": {
      "text/plain": [
       "[('chirpMean', (249, 49), 'double'),\n",
       " ('barDeconvMean', (32, 49), 'double'),\n",
       " ('barMeanDeconv', (32, 49), 'double'),\n",
       " ('barTime', (1, 32), 'double'),\n",
       " ('somaSizeIdx', (49, 1), 'int64'),\n",
       " ('barN', (1, 49), 'int64'),\n",
       " ('chirpDeconvSd', (249, 49), 'double'),\n",
       " ('barMed', (32, 49), 'double'),\n",
       " ('barDeconvSd', (32, 49), 'double'),\n",
       " ('dsIdx', (49, 1), 'int64'),\n",
       " ('chirpMeanDeconv', (249, 49), 'double'),\n",
       " ('chirpN', (1, 49), 'int64'),\n",
       " ('chirpDeconvMean', (249, 49), 'double'),\n",
       " ('chirpTime', (1, 249), 'double'),\n",
       " ('barSd', (32, 49), 'double'),\n",
       " ('chirpMed', (249, 49), 'double'),\n",
       " ('barMean', (32, 49), 'double'),\n",
       " ('chirpSd', (249, 49), 'double')]"
      ]
     },
     "execution_count": 6,
     "metadata": {},
     "output_type": "execute_result"
    }
   ],
   "source": [
    "ogb1 = scipy.io.loadmat(p['loadDirProc']+p['fidOgb1'])\n",
    "scipy.io.whosmat(p['loadDirProc']+p['fidOgb1'])"
   ]
  },
  {
   "cell_type": "code",
   "execution_count": 7,
   "metadata": {},
   "outputs": [
    {
     "name": "stdout",
     "output_type": "stream",
     "text": [
      "31.82049156626506\n",
      "4.0\n"
     ]
    }
   ],
   "source": [
    "## Update OGB1 time info\n",
    "# (.mat files seem to require storage as 2D)\n",
    "for iStim in p['stim']:\n",
    "    ogb1[iStim+'Time'] = ogb1[iStim+'Time'][0,:]\n",
    "    ogb1[iStim+'Dur'] = ogb1[iStim+'Time'][-1] - ogb1[iStim+'Time'][0] # Get stim duration\n",
    "    ogb1[iStim+'SRate'] = len(ogb1[iStim+'Time']) / ogb1[iStim+'Dur']\n",
    "    print(ogb1[iStim+'Dur'])"
   ]
  },
  {
   "cell_type": "markdown",
   "metadata": {},
   "source": [
    "# Function: direction selectivity (DS)"
   ]
  },
  {
   "cell_type": "code",
   "execution_count": null,
   "metadata": {
    "scrolled": false
   },
   "outputs": [],
   "source": [
    "def ds_ana(traces):\n",
    "    \"\"\"\n",
    "    Summary analysis function for multiple direction selectivity (DS) functions.\n",
    "    \"\"\"\n",
    "    \n",
    "    ## Get DS-stimulus info\n",
    "    # Direction vector (in degrees)\n",
    "    _, _, dirs, _ = cf.create_ds_stim()\n",
    "        \n",
    "    # Convert dirs to mathematical convention: 0 deg = bar moves left to right\n",
    "    # As 0 deg currently = top to bottom, etc., this encoding is a shift from convention by 270 deg\n",
    "    dirs = [((x + 270) % 360) for x in dirs]\n",
    "\n",
    "    # Convert directions from deg2rad\n",
    "    dirsRad = np.deg2rad(dirs)\n",
    "\n",
    "    # Trial idx for same dirs\n",
    "    dirIdx = [[0,8,16],[1,9,17],[2,10,18],[3,11,19],[4,12,20],[5,13,21],[6,14,22],[7,15,23]]\n",
    "\n",
    "    ## Analyse DS\n",
    "    # Get average response of each ROI per direction\n",
    "    dsMatrix = np.zeros([traces.shape[0], len(dirIdx), traces.shape[2]])\n",
    "    for i in range(traces.shape[2]):\n",
    "        \n",
    "        # Get condition average traces\n",
    "        dsMatrix[:,:,i] = cf.avg_matrix(traces[:,:,i], grouping=dirIdx)\n",
    "\n",
    "        # Order responses by direction condition\n",
    "        dsMatrix[:,:,i] = dsMatrix[:, np.argsort(dirsRad), i]\n",
    "\n",
    "        # Normalize avg matrix\n",
    "        dsMatrix[:,:,i] = (dsMatrix[:,:,i] - np.median(dsMatrix[0:8,:,i], axis=0))\n",
    "        dsMatrix[:,:,i] = dsMatrix[:,:,i] / np.max(np.abs(np.median(dsMatrix[:,:,i], axis=1)))\n",
    "\n",
    "    # Sort trial traces by condition    \n",
    "    tracesSort = traces[:,dirIdx,:] # (40, 8, 3, 23) (time, condition, trial, roi)\n",
    "    tracesSort = tracesSort[:,np.argsort(dirsRad),:,:]\n",
    "\n",
    "    # Sort direction condition\n",
    "    dirsRad = np.sort(dirsRad)\n",
    "\n",
    "    # Direction selectivity analysis of each ROI\n",
    "    dsVector  = np.zeros([len(dirIdx), dsMatrix.shape[2]])\n",
    "    dsIdx = np.zeros([dsMatrix.shape[2]])\n",
    "    pVal = np.zeros([dsMatrix.shape[2]])\n",
    "    qVal = np.zeros([dsMatrix.shape[2]])\n",
    "\n",
    "    for i in range(dsMatrix.shape[2]):    \n",
    "        # Get DS vector using SVD\n",
    "        [dsVector[:,i], tc, _] = cf.direction_selectivity(matrix=dsMatrix[:,:,i])\n",
    "\n",
    "        # Get projection of time-component onto traces using SVD (for tuning significance test)\n",
    "        tcProj = np.inner(tracesSort[:,:,:,i].T, tc)\n",
    "\n",
    "        # Get DS index\n",
    "        dsIdx[i] = circ.resultant_vector_length(alpha=dirsRad, w=dsVector[:,i], d=np.diff(np.sort(dirsRad)[0:2]))\n",
    "\n",
    "        # Test DS-tuning significance via permutation test\n",
    "        [pVal[i], qVal[i], _] = cf.testTuning(dirs=dirsRad, counts=tcProj, per=1) # note: per=1: 1st fourier comp\n",
    "        \n",
    "    return dsMatrix, dsVector, dsIdx, pVal, qVal"
   ]
  },
  {
   "cell_type": "markdown",
   "metadata": {},
   "source": [
    "# Function: getGcamp6fData"
   ]
  },
  {
   "cell_type": "code",
   "execution_count": null,
   "metadata": {},
   "outputs": [],
   "source": [
    "def getGcamp6fData(p, iStim, ogb1):\n",
    "    \"\"\"\n",
    "    Summary function calling multiple analysis functions on a recording field file (hdf5).\n",
    "    INPUT:\n",
    "    ------\n",
    "    p : dict\n",
    "        parameters\n",
    "    iStim : scalar\n",
    "        current stim\n",
    "    ogb1 : dict\n",
    "        ogb1 data. Used only for time-alignment of gcamp6f data\n",
    "    OUTPUT:\n",
    "    ------\n",
    "    dataTmp : pandas dataframe\n",
    "        gcamp6f data for current field\n",
    "    \"\"\"\n",
    "    ## Load data\n",
    "    # Gets single input file of a field for a stimulus\n",
    "    with h5py.File(p['loadDirRaw']+p['date']+'/'+p['field']+'/'+p['dtype']+'/'+p['stimFile'][iStim], 'r') as f:\n",
    "        data = {key:f[key][:] for key in list(f.keys())} # dictionary comprehension\n",
    "\n",
    "    # Get snippets \n",
    "    # Snippets = traces time series for whole field [time x trial x ROI]\n",
    "    snippets = data['Snippets0']\n",
    "\n",
    "    # Get snippets times\n",
    "    snippetsTimes = data['SnippetsTimes0']\n",
    "\n",
    "    # Remove Nans\n",
    "    snippets = snippets[:, :, np.any(np.any(~np.isnan(snippets), axis=1), axis=0)]\n",
    "    snippetsTimes = snippetsTimes[:, :, np.any(np.any(~np.isnan(snippetsTimes), axis=1), axis=0)]\n",
    "\n",
    "    # If Chirp-stim\n",
    "    if p['stimFile'][iStim] == 'Chirps.h5':\n",
    "        nSamples = snippets.shape[0]\n",
    "        ## Clip snippet duration to equal that of OGB1-Data\n",
    "\n",
    "        # Get median duration of snippets times (as it varies slightly from field to field, and ROI to ROI)\n",
    "        stimDur = np.median(np.max(snippetsTimes, axis=0) - snippetsTimes[0,:,:])\n",
    "        # If you find nans, then set stimDur to median gcamp6Chirp-duration\n",
    "        if np.isnan(stimDur):\n",
    "            warnings.warn('NaNs in %s-%s-%s' % (p['date'], p['field'], p['stimFile'][iStim]))\n",
    "            stimDur = p['chirpDurGcamp6'] # hacky! mend tomorrow\n",
    "\n",
    "        # Calculate sampling rate\n",
    "        sRate = nSamples / stimDur\n",
    "\n",
    "        # Find start and end point to clip (in samples)\n",
    "        start = int(np.floor(ogb1['chirpTime'][0] * sRate))\n",
    "        stop = int(np.floor(ogb1['chirpTime'][-1] * sRate))\n",
    "\n",
    "        # Clip gcamp6 snippets and snippetTimes to duration of ogb1\n",
    "        snippets = snippets[start:stop]\n",
    "        snippetsTimes = snippetsTimes[start:stop]\n",
    "\n",
    "    ## Resample so that nSamplesGcamp6 = nSamplesOgb1\n",
    "    ogb1SRate = ogb1[p['stim'][iStim]+'SRate'] # 7.825\n",
    "    ogb1StimDur = ogb1[p['stim'][iStim]+'Dur']\n",
    "    snippets = pop.interpNewSRate(snippets, ogb1SRate, ogb1StimDur)\n",
    "    \n",
    "    ## Normalize and get snippet means/med & sds\n",
    "    snippets = pop.normalize(snippets, mode='meanMax') # normalize for mean (mode: cf. methods Baden2016)\n",
    "    snippetsMean = np.mean(snippets, axis=1)\n",
    "    snippetsSd = np.std(snippets, axis=1)\n",
    "\n",
    "    snippets = pop.normalize(snippets, mode='medMax') # normalize for median (mode: cf. methods Baden2016)    \n",
    "    snippetsMed = np.median(snippets, axis=1)\n",
    "\n",
    "    ## Deconvolution \n",
    "    # Get mean deconvolved trace per ROI\n",
    "    deconvTraces = np.zeros((snippets.shape[0], snippets.shape[1], snippets.shape[2])) \n",
    "    deconvMean = np.zeros((snippets.shape[0], snippets.shape[2]))\n",
    "    deconvSd = np.zeros((snippets.shape[0], snippets.shape[2]))\n",
    "    for iRoi in range(snippets.shape[2]):\n",
    "        d, traceSm = pop.deconv(snippets[:,:,iRoi], fps=ogb1SRate, method=p['deconvMethod'], smooth=True, norm=True)\n",
    "        # Get normalized trace\n",
    "        deconvTraces[:,:,iRoi] = pop.normalize(d, mode='meanR') # (mean) range norm due to non-negativity of firing rates\n",
    "        # Get mean and sd\n",
    "        deconvMean[:,iRoi] = np.mean(deconvTraces[:,:,iRoi], axis=1)\n",
    "        deconvSd[:,iRoi] = np.std(deconvTraces[:,:,iRoi], axis=1)\n",
    "        \n",
    "    ## Get quality indices (QI)\n",
    "    # Chirp\n",
    "    if p['stimFile'][iStim] == 'Chirps.h5':\n",
    "        qis = pop.qi(snippets)\n",
    "    # Bar - requires variation: get QI for each direction and take max for each cell\n",
    "    elif p['stimFile'][iStim] == 'DS.h5':\n",
    "        dirIdx =[[0,8,16],[1,9,17],[2,10,18],[3,11,19],[4,12,20],[5,13,21],[6,14,22],[7,15,23]] # Vector of bar directions\n",
    "        qis = np.zeros((len(dirIdx), snippets.shape[2])) # [nDirections, nRois]\n",
    "        # Loop through directions\n",
    "        for i in range(len(dirIdx)):\n",
    "            qis[i] = pop.qi(snippets[:, dirIdx[i], :])\n",
    "        # Take max of QIs as QI for each ROI\n",
    "        qis = np.max(qis, axis=0)\n",
    "\n",
    "    ## For DS/bar-stimulus, do direction selectivity (DS) analysis\n",
    "    if p['stimFile'][iStim] == 'DS.h5':\n",
    "            dsMatrix, dsVector, dsIdx, dsPVal, _ = ds_ana(snippets)\n",
    "\n",
    "    ## Get cell soma areas\n",
    "    # Get ROI mask\n",
    "    rois = data['ROIs']\n",
    "    # Get areas\n",
    "    areas, _ = cf.roi_area(rois)   \n",
    "\n",
    "    ## Insert data into temp df\n",
    "    # NOTE: for traces, consider sth like pd.Series(list(np.swapaxes(dsMatrix.T, 1, 2))) # swap ax to keep [time, trial] order\n",
    "    dataTmp = pd.DataFrame({\n",
    "            \"date\": iDate,\n",
    "            \"field\": iField,\n",
    "            \"roi\": pd.Series(range(1, snippetsMean.shape[1]+1), index=list(range(snippetsMean.shape[1]))),\n",
    "            # Insert stimulus-specific data, w flexible var names according to stimulus\n",
    "            p['stim'][iStim]+\"Traces\": pd.Series(list(snippets.T)), # add 3D array to pd df \n",
    "            p['stim'][iStim]+\"Mean\": pd.Series(list(snippetsMean.T)),\n",
    "            p['stim'][iStim]+\"Med\": pd.Series(list(snippetsMed.T)),\n",
    "            p['stim'][iStim]+\"Sd\": pd.Series(list(snippetsSd.T)),\n",
    "            p['stim'][iStim]+\"DeconvTraces\": pd.Series(list(deconvTraces.T)),\n",
    "            p['stim'][iStim]+\"DeconvMean\": pd.Series(list(deconvMean.T)),\n",
    "            p['stim'][iStim]+\"DeconvSd\": pd.Series(list(deconvSd.T)),\n",
    "            p['stim'][iStim]+\"Qi\": qis, # QI named according to stimulus\n",
    "            \"somaArea\": areas, # Soma areas\n",
    "              })\n",
    "    # For bar-stim, add DS-info to dataTmp\n",
    "    if p['stimFile'][iStim] == 'DS.h5':\n",
    "        # Insert DS info into tmpData\n",
    "        dataTmp[\"barCondAvgTraces\"] = pd.Series(list(dsMatrix.T)) # swap ax to keep [time, trial] order\n",
    "        dataTmp[\"dsVector\"] = pd.Series(list(dsVector.T))\n",
    "        dataTmp[\"dsi\"] = pd.Series(list(dsIdx))\n",
    "        dataTmp[\"dsPVal\"] = pd.Series(list(dsPVal))\n",
    "\n",
    "    # Give some summary info\n",
    "    print(\"\\tgetGcamp6fData(): Getting data for %d rois.\" % snippets.shape[2]) # [time x trial x ROI]\n",
    "\n",
    "    return dataTmp"
   ]
  },
  {
   "cell_type": "markdown",
   "metadata": {},
   "source": [
    "# Data Processing"
   ]
  },
  {
   "cell_type": "markdown",
   "metadata": {},
   "source": [
    "### Method:\n",
    "Data storage: date > field > pre > one hdf5 per stimulus, containing 1+ rois.\n",
    "Data retrieval: call function getGcamp6Data(p) for all fields and collect data into one dataframe"
   ]
  },
  {
   "cell_type": "code",
   "execution_count": null,
   "metadata": {
    "scrolled": false
   },
   "outputs": [],
   "source": [
    "# Time cell execution\n",
    "start = time.time()\n",
    "\n",
    "# get current working dir\n",
    "print(os.getcwd())\n",
    "\n",
    "# Initialize data frame for each stimulus\n",
    "chirpData = pd.DataFrame(columns=['date', 'field', 'roi'])\n",
    "barData = pd.DataFrame(columns=['date', 'field', 'roi'])\n",
    "\n",
    "# Get all recording dates (list of data folders (excl hidden files))\n",
    "dates = [date for date in os.listdir(p['loadDirRaw']) if not date.startswith('.')]\n",
    "print('dates:', dates)\n",
    "for iDate in dates:\n",
    "    p.update({'date': iDate}) # set date dir\n",
    "    print('Date:', iDate)\n",
    "    # Get list of recorded fields (excl hidden files))\n",
    "    fields = [field for field in os.listdir(p['loadDirRaw']+p['date']) if not field.startswith('.')]\n",
    "    print('Fields:', fields)\n",
    "    for iField in fields:\n",
    "        p.update({\n",
    "                'field': iField, # set field dir\n",
    "                'dtype': 'Pre', # use preprocessed data\n",
    "                }) \n",
    "        print(' Field', iField)\n",
    "#         print(p['loadDirRaw']+p['date']+'/'+p['field']+'/'+p['dtype']+'/')\n",
    "\n",
    "        # Loop through all stimuli of interest\n",
    "        for iStim, stim in enumerate(p['stimFile']):\n",
    "            print('  Stimulus:', stim)\n",
    "            \n",
    "            if p['stimFile'][iStim] in os.listdir(p['loadDirRaw']+p['date']+'/'+p['field']+'/'+p['dtype']+'/'):\n",
    "                \n",
    "                # Get gcamp6 data\n",
    "                dataTmp = getGcamp6fData(p, iStim, ogb1)\n",
    "                \n",
    "                # Append data to appropriate stimulus data\n",
    "                if p['stimFile'][iStim] == 'Chirps.h5':\n",
    "                    chirpData = chirpData.append(dataTmp, ignore_index=True)\n",
    "                    \n",
    "                elif p['stimFile'][iStim] == 'DS.h5':\n",
    "                    barData = barData.append(dataTmp, ignore_index=True)                    \n",
    "\n",
    "            else:\n",
    "                continue\n",
    "\n",
    "print('DONE.')\n",
    "dur = (time.time() - start)\n",
    "print('Duration: %.2f sec = %.2f min' %(dur, dur/60))"
   ]
  },
  {
   "cell_type": "code",
   "execution_count": null,
   "metadata": {},
   "outputs": [],
   "source": [
    "print('DONE.')"
   ]
  },
  {
   "cell_type": "markdown",
   "metadata": {},
   "source": [
    "## Find and exclude cell number mismatches between stimuli"
   ]
  },
  {
   "cell_type": "code",
   "execution_count": null,
   "metadata": {},
   "outputs": [],
   "source": [
    "data = pd.merge(chirpData, barData, how='inner')"
   ]
  },
  {
   "cell_type": "markdown",
   "metadata": {},
   "source": [
    "## Apply QI criteria to filter out cells"
   ]
  },
  {
   "cell_type": "markdown",
   "metadata": {},
   "source": [
    "NOTE: this should also take care of any traces w NaNs, which will produce a qi = 0 (according to qiFun)"
   ]
  },
  {
   "cell_type": "code",
   "execution_count": null,
   "metadata": {},
   "outputs": [],
   "source": [
    "nCellsOrig = data.index.size # original pre-criterion number of cells\n",
    "data = data[(data.chirpQi > p['chirpMinQi']) | (data.barQi > p['barMinQi'])]\n",
    "\n",
    "# Print summary\n",
    "print('QI-criterion: QI_chirp: %.2f, QI_bar:%.2f' % (p['chirpMinQi'], p['barMinQi']))\n",
    "print('QI-criterion: keeping %d/%d cells -> %d cells thrown out.' %\n",
    "      (data.index.size, nCellsOrig, (nCellsOrig - data.index.size)))\n",
    "\n",
    "# Reset index to reflect new number of cells\n",
    "data = data.reset_index(drop=True)"
   ]
  },
  {
   "cell_type": "markdown",
   "metadata": {},
   "source": [
    "# Save data"
   ]
  },
  {
   "cell_type": "code",
   "execution_count": null,
   "metadata": {},
   "outputs": [],
   "source": [
    "# Check save directory\n",
    "print('Saving data to:', p['saveDir']+p['saveFid'])"
   ]
  },
  {
   "cell_type": "code",
   "execution_count": null,
   "metadata": {
    "scrolled": true
   },
   "outputs": [],
   "source": [
    "store = HDFStore(p['saveDir']+p['saveFid']) # create file\n",
    "store['data'] = data # save data into file\n",
    "store.close() # close file"
   ]
  },
  {
   "cell_type": "markdown",
   "metadata": {},
   "source": [
    "# Supplemental code"
   ]
  },
  {
   "cell_type": "markdown",
   "metadata": {},
   "source": [
    "## Data exploration"
   ]
  },
  {
   "cell_type": "code",
   "execution_count": 38,
   "metadata": {
    "scrolled": false
   },
   "outputs": [
    {
     "name": "stdout",
     "output_type": "stream",
     "text": [
      "date: 20160223\n",
      " nFields: 15\n",
      " nCells: 121\n",
      " nCellsPerField: 8.1\n",
      "  f01: n=3\n",
      "  f03: n=23\n",
      "  f04: n=13\n",
      "  f05: n=11\n",
      "  f06: n=20\n",
      "  f07: n=20\n",
      "  f08: n=9\n",
      "  f09: n=4\n",
      "  f10: n=2\n",
      "  f11: n=3\n",
      "  f12: n=4\n",
      "  f13: n=1\n",
      "  f14: n=1\n",
      "  f15: n=3\n",
      "  f16: n=4\n",
      "date: 20160224\n",
      " nFields: 13\n",
      " nCells: 64\n",
      " nCellsPerField: 4.9\n",
      "  f01: n=1\n",
      "  f02: n=6\n",
      "  f03: n=7\n",
      "  f04: n=4\n",
      "  f05: n=6\n",
      "  f06: n=3\n",
      "  f07: n=13\n",
      "  f08: n=3\n",
      "  f09: n=5\n",
      "  f10: n=8\n",
      "  f11: n=6\n",
      "  f12: n=1\n",
      "  f13: n=1\n",
      "date: 20160420\n",
      " nFields: 16\n",
      " nCells: 51\n",
      " nCellsPerField: 3.2\n",
      "  f01: n=3\n",
      "  f02: n=5\n",
      "  f03: n=5\n",
      "  f04: n=5\n",
      "  f05: n=3\n",
      "  f06: n=5\n",
      "  f07: n=4\n",
      "  f08: n=4\n",
      "  f09: n=3\n",
      "  f10: n=2\n",
      "  f11: n=1\n",
      "  f12: n=2\n",
      "  f13: n=2\n",
      "  f14: n=3\n",
      "  f15: n=3\n",
      "  f16: n=1\n",
      "date: 20160421\n",
      " nFields: 25\n",
      " nCells: 345\n",
      " nCellsPerField: 13.8\n",
      "  f01: n=2\n",
      "  f02: n=4\n",
      "  f03: n=16\n",
      "  f04: n=12\n",
      "  f05: n=13\n",
      "  f06: n=15\n",
      "  f07: n=18\n",
      "  f08: n=16\n",
      "  f09: n=14\n",
      "  f10: n=10\n",
      "  f11: n=23\n",
      "  f12: n=15\n",
      "  f13: n=10\n",
      "  f14: n=11\n",
      "  f15: n=18\n",
      "  f16: n=15\n",
      "  f17: n=14\n",
      "  f18: n=19\n",
      "  f19: n=25\n",
      "  f20: n=12\n",
      "  f21: n=6\n",
      "  f22: n=16\n",
      "  f23: n=17\n",
      "  f24: n=9\n",
      "  f25: n=15\n",
      "\n",
      "Total nFields: 69\n",
      "Total nCells: 581\n",
      "Mean+SD nCellsPerField: 8.4±6.5\n",
      "Median nCellsPerField: 6.0\n",
      "range nCellsPerField: 1-25\n"
     ]
    },
    {
     "data": {
      "text/plain": [
       "<matplotlib.text.Text at 0x1241d82e8>"
      ]
     },
     "execution_count": 38,
     "metadata": {},
     "output_type": "execute_result"
    },
    {
     "data": {
      "image/png": "[encoded data removed]",
      "text/plain": [
       "<matplotlib.figure.Figure at 0x1241c9588>"
      ]
     },
     "metadata": {},
     "output_type": "display_data"
    }
   ],
   "source": [
    "nFieldsTot = 0 # Total nFields counter\n",
    "\n",
    "cells_per_field_all = []\n",
    "\n",
    "for i in np.unique(gcamp6.date):\n",
    "    print('date:', i)\n",
    "    \n",
    "    nFields = len(np.unique(gcamp6.field[gcamp6.date == i]))\n",
    "    print(' nFields:', nFields)\n",
    "    nFieldsTot += nFields\n",
    "    \n",
    "    nCells = len(gcamp6.roi[(gcamp6.date == i)])\n",
    "    print(' nCells:', nCells)    \n",
    "    \n",
    "    nCellsPerField = nCells/nFields\n",
    "    print(' nCellsPerField: %.1f' % np.round(nCellsPerField,1))\n",
    "    \n",
    "    for x in np.unique(gcamp6.field[gcamp6.date == i]):\n",
    "        cellsInField = len(gcamp6.roi[(gcamp6.date == i) & (gcamp6.field == x)])\n",
    "        print('  f%s: n=%i' % (x, cellsInField))        \n",
    "        cells_per_field_all.append(cellsInField)\n",
    "    \n",
    "print('\\nTotal nFields:', nFieldsTot)\n",
    "print('Total nCells:', len(gcamp6))\n",
    "# print('Mean+SD nCellsPerField:', np.round(len(gcamp6)/nFieldsTot, 1))\n",
    "print('Mean+SD nCellsPerField: %.1f±%.1f' % \\\n",
    "      (np.round(np.mean(cells_per_field_all),1), np.round(np.std(cells_per_field_all),1)))\n",
    "print('Median nCellsPerField: %.1f' % \\\n",
    "      (np.round(np.median(cells_per_field_all),1)))\n",
    "print('range nCellsPerField: %i-%i' % \\\n",
    "      (np.min(cells_per_field_all), np.max(cells_per_field_all)))\n",
    "\n",
    "# Plot histogram of cells per fields by n fields\n",
    "plt.hist(cells_per_field_all)\n",
    "plt.xlabel('n cells per field')\n",
    "plt.ylabel('n fields')"
   ]
  }
 ],
 "metadata": {
  "anaconda-cloud": {},
  "kernelspec": {
   "display_name": "Python 3",
   "language": "python",
   "name": "python3"
  },
  "language_info": {
   "codemirror_mode": {
    "name": "ipython",
    "version": 3
   },
   "file_extension": ".py",
   "mimetype": "text/x-python",
   "name": "python",
   "nbconvert_exporter": "python",
   "pygments_lexer": "ipython3",
   "version": "3.6.6"
  }
 },
 "nbformat": 4,
 "nbformat_minor": 2
}
