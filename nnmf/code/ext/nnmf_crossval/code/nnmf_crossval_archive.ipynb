{
 "cells": [
  {
   "cell_type": "code",
   "execution_count": 1,
   "metadata": {
    "collapsed": true
   },
   "outputs": [],
   "source": [
    "# Library/module setup\n",
    "from cv import * # NNMF cross-validation functions\n",
    "import scipy.io as sio\n",
    "\n",
    "%matplotlib inline"
   ]
  },
  {
   "cell_type": "code",
   "execution_count": 2,
   "metadata": {
    "collapsed": false
   },
   "outputs": [],
   "source": [
    "%load_ext autoreload\n",
    "%autoreload 2"
   ]
  },
  {
   "cell_type": "code",
   "execution_count": 3,
   "metadata": {
    "collapsed": false
   },
   "outputs": [
    {
     "data": {
      "text/plain": [
       "[('A', (641, 25), 'double'),\n",
       " ('D_res', (100, 1), 'double'),\n",
       " ('X', (641, 815), 'double'),\n",
       " ('Y', (25, 815), 'double'),\n",
       " ('k_best', (1, 1), 'double'),\n",
       " ('psth', (1, 1), 'struct')]"
      ]
     },
     "execution_count": 3,
     "metadata": {},
     "output_type": "execute_result"
    }
   ],
   "source": [
    "# Load PSTH data (.mat file)\n",
    "orig_data = sio.loadmat('../data/nnmf_best.mat')\n",
    "sio.whosmat('../data/nnmf_best.mat')"
   ]
  },
  {
   "cell_type": "code",
   "execution_count": 4,
   "metadata": {
    "collapsed": false
   },
   "outputs": [
    {
     "name": "stdout",
     "output_type": "stream",
     "text": [
      "data = firing rate PSTH of 815 cells x 641 tPoints\n"
     ]
    }
   ],
   "source": [
    "# Extract PSTH\n",
    "data = orig_data['psth']['psth'][0,0] # PSTH array is in nnmf_best.psth.psth\n",
    "print('data = firing rate PSTH of %i cells x %i tPoints' % data.shape)"
   ]
  },
  {
   "cell_type": "code",
   "execution_count": 12,
   "metadata": {
    "collapsed": true
   },
   "outputs": [],
   "source": [
    "# Parameters\n",
    "ranks = np.arange(1, 101) # range of components to test\n",
    "replicates = 1 # number of repetitions??"
   ]
  },
  {
   "cell_type": "code",
   "execution_count": 13,
   "metadata": {
    "collapsed": true
   },
   "outputs": [],
   "source": [
    "# Initialize problem\n",
    "train_err, test_err = [], []"
   ]
  },
  {
   "cell_type": "code",
   "execution_count": 14,
   "metadata": {
    "collapsed": false
   },
   "outputs": [
    {
     "name": "stdout",
     "output_type": "stream",
     "text": [
      "Fitting model with rank 1/100 ...\n",
      "Fitting model with rank 2/100 ...\n",
      "Fitting model with rank 3/100 ...\n",
      "Fitting model with rank 4/100 ...\n",
      "Fitting model with rank 5/100 ...\n",
      "Fitting model with rank 6/100 ...\n",
      "Fitting model with rank 7/100 ...\n",
      "Fitting model with rank 8/100 ...\n",
      "Fitting model with rank 9/100 ...\n",
      "Fitting model with rank 10/100 ...\n",
      "Fitting model with rank 11/100 ...\n",
      "Fitting model with rank 12/100 ...\n",
      "Fitting model with rank 13/100 ...\n",
      "Fitting model with rank 14/100 ...\n",
      "Fitting model with rank 15/100 ...\n",
      "Fitting model with rank 16/100 ...\n",
      "Fitting model with rank 17/100 ...\n",
      "Fitting model with rank 18/100 ...\n",
      "Fitting model with rank 19/100 ...\n",
      "Fitting model with rank 20/100 ...\n",
      "Fitting model with rank 21/100 ...\n",
      "Fitting model with rank 22/100 ...\n",
      "Fitting model with rank 23/100 ...\n",
      "Fitting model with rank 24/100 ...\n",
      "Fitting model with rank 25/100 ...\n"
     ]
    },
    {
     "ename": "KeyboardInterrupt",
     "evalue": "",
     "output_type": "error",
     "traceback": [
      "\u001b[0;31m---------------------------------------------------------------------------\u001b[0m",
      "\u001b[0;31mKeyboardInterrupt\u001b[0m                         Traceback (most recent call last)",
      "\u001b[0;32m<ipython-input-14-774fc9aca14c>\u001b[0m in \u001b[0;36m<module>\u001b[0;34m()\u001b[0m\n\u001b[1;32m      2\u001b[0m \u001b[0;32mfor\u001b[0m \u001b[0mrnk\u001b[0m\u001b[0;34m,\u001b[0m \u001b[0m_\u001b[0m \u001b[0;32min\u001b[0m \u001b[0mitertools\u001b[0m\u001b[0;34m.\u001b[0m\u001b[0mproduct\u001b[0m\u001b[0;34m(\u001b[0m\u001b[0mranks\u001b[0m\u001b[0;34m,\u001b[0m \u001b[0mrange\u001b[0m\u001b[0;34m(\u001b[0m\u001b[0mreplicates\u001b[0m\u001b[0;34m)\u001b[0m\u001b[0;34m)\u001b[0m\u001b[0;34m:\u001b[0m\u001b[0;34m\u001b[0m\u001b[0m\n\u001b[1;32m      3\u001b[0m     \u001b[0mprint\u001b[0m\u001b[0;34m(\u001b[0m\u001b[0;34m'Fitting model with rank %i/%i ...'\u001b[0m \u001b[0;34m%\u001b[0m \u001b[0;34m(\u001b[0m\u001b[0mrnk\u001b[0m\u001b[0;34m,\u001b[0m \u001b[0mranks\u001b[0m\u001b[0;34m[\u001b[0m\u001b[0;34m-\u001b[0m\u001b[0;36m1\u001b[0m\u001b[0;34m]\u001b[0m\u001b[0;34m)\u001b[0m\u001b[0;34m)\u001b[0m\u001b[0;34m\u001b[0m\u001b[0m\n\u001b[0;32m----> 4\u001b[0;31m     \u001b[0mtr\u001b[0m\u001b[0;34m,\u001b[0m \u001b[0mte\u001b[0m \u001b[0;34m=\u001b[0m \u001b[0mcv_pca\u001b[0m\u001b[0;34m(\u001b[0m\u001b[0mdata\u001b[0m\u001b[0;34m,\u001b[0m \u001b[0mrnk\u001b[0m\u001b[0;34m,\u001b[0m \u001b[0mnonneg\u001b[0m\u001b[0;34m=\u001b[0m\u001b[0;32mTrue\u001b[0m\u001b[0;34m)\u001b[0m\u001b[0;34m[\u001b[0m\u001b[0;36m2\u001b[0m\u001b[0;34m:\u001b[0m\u001b[0;34m]\u001b[0m\u001b[0;34m\u001b[0m\u001b[0m\n\u001b[0m\u001b[1;32m      5\u001b[0m     \u001b[0mtrain_err\u001b[0m\u001b[0;34m.\u001b[0m\u001b[0mappend\u001b[0m\u001b[0;34m(\u001b[0m\u001b[0;34m(\u001b[0m\u001b[0mrnk\u001b[0m\u001b[0;34m,\u001b[0m \u001b[0mtr\u001b[0m\u001b[0;34m)\u001b[0m\u001b[0;34m)\u001b[0m\u001b[0;34m\u001b[0m\u001b[0m\n\u001b[1;32m      6\u001b[0m     \u001b[0mtest_err\u001b[0m\u001b[0;34m.\u001b[0m\u001b[0mappend\u001b[0m\u001b[0;34m(\u001b[0m\u001b[0;34m(\u001b[0m\u001b[0mrnk\u001b[0m\u001b[0;34m,\u001b[0m \u001b[0mte\u001b[0m\u001b[0;34m)\u001b[0m\u001b[0;34m)\u001b[0m\u001b[0;34m\u001b[0m\u001b[0m\n",
      "\u001b[0;32m/Users/yannik/Google Drive/lab/BBE_BusseBerensEuler/code/nnmf/nnmf_crossval/cv.py\u001b[0m in \u001b[0;36mcv_pca\u001b[0;34m(data, rank, M, p_holdout, nonneg)\u001b[0m\n\u001b[1;32m     81\u001b[0m     \u001b[0;31m# fit pca/nmf\u001b[0m\u001b[0;34m\u001b[0m\u001b[0;34m\u001b[0m\u001b[0m\n\u001b[1;32m     82\u001b[0m     \u001b[0;32mfor\u001b[0m \u001b[0mitr\u001b[0m \u001b[0;32min\u001b[0m \u001b[0mrange\u001b[0m\u001b[0;34m(\u001b[0m\u001b[0;36m50\u001b[0m\u001b[0;34m)\u001b[0m\u001b[0;34m:\u001b[0m\u001b[0;34m\u001b[0m\u001b[0m\n\u001b[0;32m---> 83\u001b[0;31m         \u001b[0mVt\u001b[0m \u001b[0;34m=\u001b[0m \u001b[0msolver\u001b[0m\u001b[0;34m(\u001b[0m\u001b[0mU\u001b[0m\u001b[0;34m,\u001b[0m \u001b[0mdata\u001b[0m\u001b[0;34m,\u001b[0m \u001b[0mM\u001b[0m\u001b[0;34m)\u001b[0m\u001b[0;34m\u001b[0m\u001b[0m\n\u001b[0m\u001b[1;32m     84\u001b[0m         \u001b[0mU\u001b[0m \u001b[0;34m=\u001b[0m \u001b[0msolver\u001b[0m\u001b[0;34m(\u001b[0m\u001b[0mVt\u001b[0m\u001b[0;34m.\u001b[0m\u001b[0mT\u001b[0m\u001b[0;34m,\u001b[0m \u001b[0mdata\u001b[0m\u001b[0;34m.\u001b[0m\u001b[0mT\u001b[0m\u001b[0;34m,\u001b[0m \u001b[0mM\u001b[0m\u001b[0;34m.\u001b[0m\u001b[0mT\u001b[0m\u001b[0;34m)\u001b[0m\u001b[0;34m.\u001b[0m\u001b[0mT\u001b[0m\u001b[0;34m\u001b[0m\u001b[0m\n\u001b[1;32m     85\u001b[0m \u001b[0;34m\u001b[0m\u001b[0m\n",
      "\u001b[0;32m/Users/yannik/Google Drive/lab/BBE_BusseBerensEuler/code/nnmf/nnmf_crossval/cv.py\u001b[0m in \u001b[0;36mcensored_nnlstsq\u001b[0;34m(A, B, M)\u001b[0m\n\u001b[1;32m     56\u001b[0m     \u001b[0mX\u001b[0m \u001b[0;34m=\u001b[0m \u001b[0mnp\u001b[0m\u001b[0;34m.\u001b[0m\u001b[0mempty\u001b[0m\u001b[0;34m(\u001b[0m\u001b[0;34m(\u001b[0m\u001b[0mB\u001b[0m\u001b[0;34m.\u001b[0m\u001b[0mshape\u001b[0m\u001b[0;34m[\u001b[0m\u001b[0;36m1\u001b[0m\u001b[0;34m]\u001b[0m\u001b[0;34m,\u001b[0m \u001b[0mA\u001b[0m\u001b[0;34m.\u001b[0m\u001b[0mshape\u001b[0m\u001b[0;34m[\u001b[0m\u001b[0;36m1\u001b[0m\u001b[0;34m]\u001b[0m\u001b[0;34m)\u001b[0m\u001b[0;34m)\u001b[0m\u001b[0;34m\u001b[0m\u001b[0m\n\u001b[1;32m     57\u001b[0m     \u001b[0;32mfor\u001b[0m \u001b[0mn\u001b[0m \u001b[0;32min\u001b[0m \u001b[0mrange\u001b[0m\u001b[0;34m(\u001b[0m\u001b[0mB\u001b[0m\u001b[0;34m.\u001b[0m\u001b[0mshape\u001b[0m\u001b[0;34m[\u001b[0m\u001b[0;36m1\u001b[0m\u001b[0;34m]\u001b[0m\u001b[0;34m)\u001b[0m\u001b[0;34m:\u001b[0m\u001b[0;34m\u001b[0m\u001b[0m\n\u001b[0;32m---> 58\u001b[0;31m         \u001b[0mX\u001b[0m\u001b[0;34m[\u001b[0m\u001b[0mn\u001b[0m\u001b[0;34m]\u001b[0m \u001b[0;34m=\u001b[0m \u001b[0mnnlstsq\u001b[0m\u001b[0;34m(\u001b[0m\u001b[0mT\u001b[0m\u001b[0;34m[\u001b[0m\u001b[0mn\u001b[0m\u001b[0;34m]\u001b[0m\u001b[0;34m,\u001b[0m \u001b[0mrhs\u001b[0m\u001b[0;34m[\u001b[0m\u001b[0mn\u001b[0m\u001b[0;34m]\u001b[0m\u001b[0;34m,\u001b[0m \u001b[0mis_input_prod\u001b[0m\u001b[0;34m=\u001b[0m\u001b[0;32mTrue\u001b[0m\u001b[0;34m)\u001b[0m\u001b[0;34m[\u001b[0m\u001b[0;36m0\u001b[0m\u001b[0;34m]\u001b[0m\u001b[0;34m.\u001b[0m\u001b[0mT\u001b[0m\u001b[0;34m\u001b[0m\u001b[0m\n\u001b[0m\u001b[1;32m     59\u001b[0m     \u001b[0;32mreturn\u001b[0m \u001b[0mX\u001b[0m\u001b[0;34m.\u001b[0m\u001b[0mT\u001b[0m\u001b[0;34m\u001b[0m\u001b[0m\n\u001b[1;32m     60\u001b[0m \u001b[0;34m\u001b[0m\u001b[0m\n",
      "\u001b[0;32m/Users/yannik/Google Drive/lab/BBE_BusseBerensEuler/code/nnmf/nnmf_crossval/nnls.py\u001b[0m in \u001b[0;36mnnlsm_blockpivot\u001b[0;34m(A, B, is_input_prod, init)\u001b[0m\n\u001b[1;32m    130\u001b[0m         \u001b[0mcols1\u001b[0m \u001b[0;34m=\u001b[0m \u001b[0mcols_set1\u001b[0m\u001b[0;34m.\u001b[0m\u001b[0mnonzero\u001b[0m\u001b[0;34m(\u001b[0m\u001b[0;34m)\u001b[0m\u001b[0;34m[\u001b[0m\u001b[0;36m0\u001b[0m\u001b[0;34m]\u001b[0m\u001b[0;34m\u001b[0m\u001b[0m\n\u001b[1;32m    131\u001b[0m         \u001b[0mcols2\u001b[0m \u001b[0;34m=\u001b[0m \u001b[0mcols_set2\u001b[0m\u001b[0;34m.\u001b[0m\u001b[0mnonzero\u001b[0m\u001b[0;34m(\u001b[0m\u001b[0;34m)\u001b[0m\u001b[0;34m[\u001b[0m\u001b[0;36m0\u001b[0m\u001b[0;34m]\u001b[0m\u001b[0;34m\u001b[0m\u001b[0m\n\u001b[0;32m--> 132\u001b[0;31m         \u001b[0mcols3\u001b[0m \u001b[0;34m=\u001b[0m \u001b[0mcols_set3\u001b[0m\u001b[0;34m.\u001b[0m\u001b[0mnonzero\u001b[0m\u001b[0;34m(\u001b[0m\u001b[0;34m)\u001b[0m\u001b[0;34m[\u001b[0m\u001b[0;36m0\u001b[0m\u001b[0;34m]\u001b[0m\u001b[0;34m\u001b[0m\u001b[0m\n\u001b[0m\u001b[1;32m    133\u001b[0m \u001b[0;34m\u001b[0m\u001b[0m\n\u001b[1;32m    134\u001b[0m         \u001b[0;32mif\u001b[0m \u001b[0mcols1\u001b[0m\u001b[0;34m.\u001b[0m\u001b[0msize\u001b[0m \u001b[0;34m>\u001b[0m \u001b[0;36m0\u001b[0m\u001b[0;34m:\u001b[0m\u001b[0;34m\u001b[0m\u001b[0m\n",
      "\u001b[0;31mKeyboardInterrupt\u001b[0m: "
     ]
    }
   ],
   "source": [
    "# Fit NNMF models w various k components\n",
    "for rnk, _ in itertools.product(ranks, range(replicates)):\n",
    "    print('Fitting model with rank %i/%i ...' % (rnk, ranks[-1]))\n",
    "    tr, te = cv_pca(data, rnk, nonneg=True)[2:]\n",
    "    train_err.append((rnk, tr))\n",
    "    test_err.append((rnk, te))\n",
    "print('DONE.')"
   ]
  },
  {
   "cell_type": "code",
   "execution_count": 11,
   "metadata": {
    "collapsed": false
   },
   "outputs": [
    {
     "data": {
      "image/png": "[encoded data removed]",
      "text/plain": [
       "<matplotlib.figure.Figure at 0x10f6cfc88>"
      ]
     },
     "metadata": {},
     "output_type": "display_data"
    }
   ],
   "source": [
    "## Plot cross-validated train vs test errors\n",
    "\n",
    "fig, ax = plt.subplots(1, 1, figsize=(4, 3.5))\n",
    "ax.plot(*list(zip(*train_err)), 'o-b', label='Train Data')\n",
    "ax.plot(*list(zip(*test_err)), 'o-r', label='Test Data')\n",
    "ax.set_ylabel('Mean Squared Error')\n",
    "ax.set_xlabel('Number of components')\n",
    "ax.set_title('NNMF')\n",
    "# ax.axvline(4, color='k', dashes=[2,2])\n",
    "ax.spines['top'].set_visible(False)\n",
    "ax.spines['right'].set_visible(False)\n",
    "ax.legend()\n",
    "fig.tight_layout()\n",
    "\n",
    "# fig.savefig('../../img/pca-crossval/pca_cv_curve.pdf')"
   ]
  },
  {
   "cell_type": "markdown",
   "metadata": {},
   "source": [
    "# TESTS"
   ]
  },
  {
   "cell_type": "code",
   "execution_count": 2,
   "metadata": {
    "collapsed": false,
    "scrolled": true
   },
   "outputs": [
    {
     "name": "stdout",
     "output_type": "stream",
     "text": [
      "Fitting model with rank 1/7 ...\n",
      "Fitting model with rank 2/7 ...\n",
      "Fitting model with rank 3/7 ...\n",
      "Fitting model with rank 4/7 ...\n",
      "Fitting model with rank 5/7 ...\n",
      "Fitting model with rank 6/7 ...\n",
      "Fitting model with rank 7/7 ...\n",
      "DONE.\n"
     ]
    }
   ],
   "source": [
    "# Do dry run with artificial data generated by plot_nmf()\n",
    "plot_nmf()"
   ]
  },
  {
   "cell_type": "code",
   "execution_count": 3,
   "metadata": {
    "collapsed": true
   },
   "outputs": [],
   "source": [
    "# parameters\n",
    "# N, R = 150, 4\n",
    "# noise = .8\n",
    "replicates = 1\n",
    "ranks = np.arange(1, 8)"
   ]
  },
  {
   "cell_type": "code",
   "execution_count": 4,
   "metadata": {
    "collapsed": true
   },
   "outputs": [],
   "source": [
    "# initialize problem\n",
    "# U = np.random.rand(N, R)\n",
    "# Vt = np.random.rand(R, N)\n",
    "# data = np.dot(U, Vt) + noise*np.random.rand(N, N)\n",
    "train_err, test_err = [], []"
   ]
  },
  {
   "cell_type": "code",
   "execution_count": 5,
   "metadata": {
    "collapsed": false
   },
   "outputs": [
    {
     "name": "stdout",
     "output_type": "stream",
     "text": [
      "Fitting model with rank 1/7 ...\n",
      "Fitting model with rank 2/7 ...\n",
      "Fitting model with rank 3/7 ...\n",
      "Fitting model with rank 4/7 ...\n",
      "Fitting model with rank 5/7 ...\n",
      "Fitting model with rank 6/7 ...\n",
      "Fitting model with rank 7/7 ...\n",
      "DONE.\n"
     ]
    }
   ],
   "source": [
    "# fit models\n",
    "for rnk, _ in itertools.product(ranks, range(replicates)):\n",
    "    print('Fitting model with rank %i/%i ...' % (rnk, ranks[-1]))\n",
    "    tr, te = cv_pca(data, rnk, nonneg=True)[2:]\n",
    "    train_err.append((rnk, tr))\n",
    "    test_err.append((rnk, te))\n",
    "print('DONE.')"
   ]
  }
 ],
 "metadata": {
  "anaconda-cloud": {},
  "kernelspec": {
   "display_name": "Python 3",
   "language": "python",
   "name": "python3"
  },
  "language_info": {
   "codemirror_mode": {
    "name": "ipython",
    "version": 3
   },
   "file_extension": ".py",
   "mimetype": "text/x-python",
   "name": "python",
   "nbconvert_exporter": "python",
   "pygments_lexer": "ipython3",
   "version": "3.6.0"
  }
 },
 "nbformat": 4,
 "nbformat_minor": 2
}
